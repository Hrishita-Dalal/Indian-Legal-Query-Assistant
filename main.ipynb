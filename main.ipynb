{
  "nbformat": 4,
  "nbformat_minor": 0,
  "metadata": {
    "colab": {
      "provenance": [],
      "gpuType": "T4",
      "authorship_tag": "ABX9TyNqUWeX17Dp8USd0NRPckHf",
      "include_colab_link": true
    },
    "kernelspec": {
      "name": "python3",
      "display_name": "Python 3"
    },
    "language_info": {
      "name": "python"
    },
    "accelerator": "GPU"
  }
  "cells": [
    {
      "cell_type": "markdown",
      "metadata": {
        "id": "view-in-github",
        "colab_type": "text"
      },
      "source": [
        "<a href=\"https://colab.research.google.com/github/Hrishita-Dalal/Indian-Legal-Query-Assistant/blob/main/main.ipynb\" target=\"_parent\"><img src=\"https://colab.research.google.com/assets/colab-badge.svg\" alt=\"Open In Colab\"/></a>"
      ]
    },
    {
      "cell_type": "markdown",
      "source": [
        "### Initial Setup"
      ],
      "metadata": {
        "id": "PDS7fMZspmzd"
      }
    },
    {
      "cell_type": "code",
      "execution_count": 4,
      "metadata": {
        "id": "3sj0mqGUS61B"
      },
      "outputs": [],
      "source": [
        "import os\n",
        "os.environ[\"PYTORCH_NO_CUDA_MEMORY_CACHING\"] = \"1\"\n",
        "import time\n",
        "import re\n",
        "import json\n",
        "import fitz\n",
        "import faiss\n",
        "import torch\n",
        "import numpy as np\n",
        "from sentence_transformers import SentenceTransformer\n",
        "from transformers import AutoTokenizer, AutoModelForCausalLM\n",
        "import ipywidgets as widgets\n",
        "from IPython.display import display, clear_output\n",
        "import urllib.request"
      ]
    },
    {
      "cell_type": "code",
      "source": [
        "!apt install shellinabox &> /dev/null\n",
        "!nohup shellinaboxd --disable-ssl --no-beep --port=8000 --css /etc/shellinabox/options-enabled/00_White\\ On\\ Black.css -s \"/:root:root:/root:/bin/bash -c bash -i\" &> /dev/null &\n",
        "!yes | /usr/local/sbin/unminimize &> /dev/null"
      ],
      "metadata": {
        "id": "PXmZqk3RYhgO"
      },
      "execution_count": 9,
      "outputs": []
    },
    {
      "cell_type": "code",
      "source": [
        "from google.colab.output import serve_kernel_port_as_iframe\n",
        "serve_kernel_port_as_iframe(8000)"
      ],
      "metadata": {
        "colab": {
          "base_uri": "https://localhost:8080/",
          "height": 421
        },
        "collapsed": true,
        "id": "DsG4zi5iUJn9",
        "outputId": "4e77e2a6-4d4c-42fc-f702-c44204ff2ea3"
      },
      "execution_count": 10,
      "outputs": [
        {
          "output_type": "display_data",
          "data": {
            "text/plain": [
              "<IPython.core.display.Javascript object>"
            ],
            "application/javascript": [
              "(async (port, path, width, height, cache, element) => {\n",
              "    if (!google.colab.kernel.accessAllowed && !cache) {\n",
              "      return;\n",
              "    }\n",
              "    element.appendChild(document.createTextNode(''));\n",
              "    const url = await google.colab.kernel.proxyPort(port, {cache});\n",
              "    const iframe = document.createElement('iframe');\n",
              "    iframe.src = new URL(path, url).toString();\n",
              "    iframe.height = height;\n",
              "    iframe.width = width;\n",
              "    iframe.style.border = 0;\n",
              "    iframe.allow = [\n",
              "        'accelerometer',\n",
              "        'autoplay',\n",
              "        'camera',\n",
              "        'clipboard-read',\n",
              "        'clipboard-write',\n",
              "        'gyroscope',\n",
              "        'magnetometer',\n",
              "        'microphone',\n",
              "        'serial',\n",
              "        'usb',\n",
              "        'xr-spatial-tracking',\n",
              "    ].join('; ');\n",
              "    element.appendChild(iframe);\n",
              "  })(8000, \"/\", \"100%\", \"400\", false, window.element)"
            ]
          },
          "metadata": {}
        }
      ]
    },
    {
      "cell_type": "markdown",
      "source": [
        "### Data Loading"
      ],
      "metadata": {
        "id": "ee3pd24TXN3o"
      }
    },
    {
      "cell_type": "code",
      "source": [
        "def load_legal_documents():\n",
        "    \"\"\"Load all legal documents without any article-specific handling\"\"\"\n",
        "    corpus = []\n",
        "\n",
        "    # 1. Load PDFs (generic handling)\n",
        "    def load_pdf(path):\n",
        "        doc = fitz.open(path)\n",
        "        return [page.get_text() for page in doc if page.get_text().strip()]\n",
        "\n",
        "    # 2. Load JSON datasets\n",
        "    def load_json_dataset(path):\n",
        "        with open(path) as f:\n",
        "            data = json.load(f)\n",
        "        return [f\"Q: {item['question']}\\nA: {item['answer']}\" for item in data]\n",
        "\n",
        "    # Load all sources equally\n",
        "    corpus.extend(load_pdf(\"Constitution_English.pdf\"))\n",
        "    corpus.extend(load_json_dataset(\"constitution_qa.json\"))\n",
        "    corpus.extend(load_json_dataset(\"crpc_qa.json\"))\n",
        "    corpus.extend(load_json_dataset(\"ipc_qa.json\"))\n",
        "\n",
        "    print(f\"📚 Loaded {len(corpus)} legal documents\")\n",
        "    return corpus\n",
        "\n",
        "corpus = load_legal_documents()"
      ],
      "metadata": {
        "colab": {
          "base_uri": "https://localhost:8080/"
        },
        "id": "KdIL87hqURmX",
        "outputId": "0443cdad-b620-4f6a-895e-6720b68966cb"
      },
      "execution_count": 37,
      "outputs": [
        {
          "output_type": "stream",
          "name": "stdout",
          "text": [
            "📚 Loaded 14811 legal documents\n"
          ]
        }
      ]
    },
    {
      "cell_type": "markdown",
      "source": [
        "### Embedding Model Setup"
      ],
      "metadata": {
        "id": "XIyHdGpVXU9m"
      }
    },
    {
      "cell_type": "code",
      "source": [
        "# Clear HuggingFace cache to prevent issues\n",
        "cache_dir = os.path.expanduser(\"~/.cache/huggingface/hub\")\n",
        "if os.path.exists(cache_dir):\n",
        "    for item in os.listdir(cache_dir):\n",
        "        item_path = os.path.join(cache_dir, item)\n",
        "        try:\n",
        "            if os.path.isfile(item_path):\n",
        "                os.unlink(item_path)\n",
        "            elif os.path.isdir(item_path):\n",
        "                shutil.rmtree(item_path)\n",
        "        except Exception as e:\n",
        "            print(f\"Failed to delete {item_path}. Reason: {e}\")\n",
        "\n",
        "# Initialize embedding model\n",
        "embedder = SentenceTransformer(\"paraphrase-multilingual-MiniLM-L12-v2\")\n",
        "embeddings = embedder.encode(corpus, convert_to_tensor=True)\n",
        "\n",
        "# Create FAISS index for efficient similarity search\n",
        "index = faiss.IndexFlatL2(embeddings.shape[1])\n",
        "index.add(embeddings.cpu().numpy())\n",
        "print(f\"✅ FAISS index created with {index.ntotal} vectors\")"
      ],
      "metadata": {
        "colab": {
          "base_uri": "https://localhost:8080/"
        },
        "id": "G06vDhErWwMF",
        "outputId": "4e1f1b68-3983-4390-aff3-63434548304b"
      },
      "execution_count": 41,
      "outputs": [
        {
          "output_type": "stream",
          "name": "stdout",
          "text": [
            "Failed to delete /root/.cache/huggingface/hub/.locks. Reason: name 'shutil' is not defined\n",
            "Failed to delete /root/.cache/huggingface/hub/models--meta-llama--Llama-2-7b-chat-hf. Reason: name 'shutil' is not defined\n",
            "Failed to delete /root/.cache/huggingface/hub/models--sentence-transformers--paraphrase-multilingual-MiniLM-L12-v2. Reason: name 'shutil' is not defined\n",
            "✅ FAISS index created with 14811 vectors\n"
          ]
        }
      ]
    },
    {
      "cell_type": "markdown",
      "source": [
        "### LLM Model Setup"
      ],
      "metadata": {
        "id": "l9N64EvXXg48"
      }
    },
    {
      "cell_type": "code",
      "source": [
        "# Model configuration\n",
        "model_name = \"meta-llama/Llama-2-7b-chat-hf\"\n",
        "\n",
        "try:\n",
        "    model = AutoModelForCausalLM.from_pretrained(\n",
        "        model_name,\n",
        "        device_map=\"auto\",\n",
        "        torch_dtype=torch.float16,\n",
        "        token=True  # Authentication required\n",
        "    )\n",
        "except Exception as e:\n",
        "    print(f\"Error loading with device_map: {e}\")\n",
        "    model = AutoModelForCausalLM.from_pretrained(\n",
        "        model_name,\n",
        "        torch_dtype=torch.float16,\n",
        "        token=True\n",
        "    ).to('cuda' if torch.cuda.is_available() else 'cpu')\n",
        "\n",
        "# Tokenizer setup\n",
        "tokenizer = AutoTokenizer.from_pretrained(model_name, token=True)\n",
        "tokenizer.pad_token_id = tokenizer.eos_token_id\n",
        "model.config.pad_token_id = tokenizer.eos_token_id\n",
        "print(f\"🚀 Model loaded on {next(model.parameters()).device}\")"
      ],
      "metadata": {
        "colab": {
          "base_uri": "https://localhost:8080/",
          "height": 386,
          "referenced_widgets": [
            "dd24ecfc99204bb1a03343c677535722",
            "4833d76deece4194be9afa2e2af0f41d",
            "0124177ae6a04bfca1526a40408a6ec3",
            "23d3510772cf4cea80864ba812298ef0",
            "a284362935d84c67940392598fec5929",
            "731d2393760140ae96dc275c7ba20188",
            "6a4b03c59e6a4ff99c54770b18cf0ff7",
            "0972241101fe49fb990cd2d2050716ee",
            "b16e40c799394438989d90a4f4e28d43",
            "6430a4adb8ec4047b9d530491bbc2bca",
            "35469062b5ae4fd084b0d283fdd3696d",
            "7600c83988df4203bbe545fb8c41108d",
            "0fab60ed36ab4adba6de9afd130ef95d",
            "f45cbb283d72418b9ab791ed35fc152c",
            "168b94866f88417badc912df21e1030d",
            "1bfba1bd29594c3892d2da434a203845",
            "dc6b24833ed2421da831f3d457726ffe",
            "10987d9378f0437ab3d1766a07a37947",
            "46a1a22d275944cf86b76bea2681de1d",
            "4597b6f283fa4c74a1d39dea0792246d",
            "99b8702f49cb485c8f2099ea7ab609ad",
            "2cf7a7d0dbd444ba841924cab835f6eb",
            "a140bc6507554536b92684f27d097ff4",
            "501247aa6f894f409f4e59c1a21ce6a3",
            "c593752fb8b643459511b71ff5b4c565",
            "f175edd0374c42bb9e1feb4cf1af6780",
            "54b72a65a6f347569e5d6c72443f4021",
            "4b73c6aa7f0c4937a999b6f7d892617b",
            "6212cea51f9549bf95eb43e7010669df",
            "5eb3ec464ce54c068f3a4d6045beacad",
            "28a94e4693844f5d9d6ed8274903aed7",
            "c371d528539345eca786fcbfc8d592ea",
            "a5175999014b41fd90a706fac8a06703",
            "72c2f2c4e945445a9f7b5760bc4966fd",
            "8cf4e5cbb45f484bac52a49a593a9ba7",
            "f9f95db4143a494880a3aa5d906db25a",
            "c33cf3b12ad14832b0cdea2cd13751ff",
            "d8c61885e3584213a831d0bc17ca5513",
            "d4e54b51d0c348a0ad1cc0d94ef5b990",
            "e0098ec4fc394f24bdbd871b7215c398",
            "137b75928dbe4d51ad7d8286d7c1e312",
            "45245196bd2d4761aea1aec5890fdd42",
            "70bd2bf0198544aab5d6833405735af2",
            "d21b713e3964402e8e5a99fa9259afb0",
            "7c48614cadce4149859c4229e904bb66",
            "114fd489d29f4fca91f0e720a53e232a",
            "448f2207a22f4c0e8d15a1c209876173",
            "f0023f24e2c14626bba257087a2ba4be",
            "eff56ca3098a4515a50e434e0e0c05a4",
            "d035565ce47f42e3aebee08c141d6695",
            "50cbf3a948544a5fae362329ec370afe",
            "e0454d084d8a475598ee6bfe65adbd1a",
            "d6ca030b212f4c7696590bae8dcbc613",
            "b5dc4ebf1c18416cb0b2ea969629be82",
            "2f2027151be54a3d96f21439df7104ef",
            "b7e4089ab7f84778b4f7057350e6f0f8",
            "8c7fc5c217944e42b3710169d482b97a",
            "23712aa8fbd84e06b6dc189d8f99141b",
            "752fa7bd9ecb47759f0982ddbf66bafa",
            "97fa3980e9024ba58df6d31aba3c8016",
            "6f78aac2bcbb489ea750c9861f3dd6ac",
            "69bcc2266cd54048ba803a1c25b1e582",
            "82f9fc492b694e988a056afc5179968d",
            "259326da5b074cb09deb56b9f27d3dd5",
            "e6b17d0b045f43b19b646cc5b26645a2",
            "0877a884e7d84375bd862b6c59da7c9c",
            "4c886745123b4cbb86c324c137733296",
            "8f44655c46b14265b4c6ef280d1ea30b",
            "cc36f74f44b84884b14b2806d1d3f765",
            "1923ed55d25a475cb99d1e0df8d1fe1e",
            "3cee1207a99a42448614a3c9fd7802dc",
            "3ccba2a9d65b46efbc3b1ec0c1e33c6b",
            "9d715fbc4f9c4a0386a18785609a521a",
            "3fedecbc34f04a02a42b0bb85de2c48a",
            "612a3510776149dd9c80e98780c38622",
            "7cee57638a91449c938fadbbb925561f",
            "4baaca72d1674908acb02b12f46bc500",
            "56a45fc297ff4342a2bb1609fdf1729c",
            "dc63cc426308436386016e0f35fc7e11",
            "be9bcd9737264c72bba211150bf9e071",
            "90ae82d307d14845ab5ccc758b92edc8",
            "7986707c3146430a8fe24bab8bc61c03",
            "7a548e194d07437489fccdd0f71aa21e",
            "49861d415bf04b56a66247b460216798",
            "1ebcf7591d9d44af881c78b0e7bc8458",
            "d35d05f10a7c436db1e109194bf32edd",
            "5334be97bfea44d29bb2c0943168a6be",
            "55f6eb9d8d3a4d999187c1eb6d54502b",
            "e233d94a0c4c4c73bfd9d1aae24e68c2",
            "f5893b10a3ca4c54ae0de9ef526fa7f4",
            "7b547fcf834d4054a677eea41cf73f72",
            "981f6ac14c054ba68f28a1eca75a7de7",
            "e2b89598ce1740439ae00664dcb6573b",
            "d675f0d1f10f429ab5ca710cfcc19a9b",
            "bbdb6a4a28a1475980837424ae691026",
            "c24aae4245564b72a7f96a043342db3e",
            "0c0412a8dbd0486e880cce8a861ee1c7",
            "88e95da142794cfdbcd33e49f5511e06",
            "60603cc98f1c4e3aa2a7920ba4e7eebe",
            "63b74dd6d3b04df9933cbb14f5432c7e",
            "073e11d8d14448049b2ce897d2551f02",
            "6c21be9f3164419ba09df4fb18718bfe",
            "72499e4d3a4a4b2988e3a6970ef0b2b4",
            "d5a905d7f94f4d2ab7c8511750acc75e",
            "9639715aef454d5b91936c7cd672df66",
            "4a107392d8844fcc96300748c3a81745",
            "0d16afb0cd4e4a8ba4f46cf7f991638c",
            "0ba85bc41c114be3ba98d1974b3735f8",
            "aeeb71d5f44549f383ef1a36bd7a5305",
            "a460da03e89544b6836f1753762bb55a",
            "1782c208a4884537b59f5580bb48df4f",
            "2b38aff4ab4845428efa236b6a2e5447",
            "6e7739af35e840d78f8880e74953b15c",
            "a24dd6a286af43b6a53869bca3c19840",
            "1f7d40e54d15474e99c2ab211d62d845",
            "c6601adad77c4d8381174e833fb9a8c3",
            "fe76d41ae05a4ac3aa45067fde9cccde",
            "749495ed706145f2873fb812c7a3ebab",
            "05004a23e58e4b37a41e8ce36fd624c9",
            "c3bf5ae36c8445c6b3994e5866bcc779",
            "321587bf931a42268679fd2e2d86ebdb"
          ]
        },
        "id": "Li4ZK6DUW_j6",
        "outputId": "265283bb-8d20-4775-bcf3-d3433c524bd8"
      },
      "execution_count": 11,
      "outputs": [
        {
          "output_type": "display_data",
          "data": {
            "text/plain": [
              "config.json:   0%|          | 0.00/614 [00:00<?, ?B/s]"
            ],
            "application/vnd.jupyter.widget-view+json": {
              "version_major": 2,
              "version_minor": 0,
              "model_id": "dd24ecfc99204bb1a03343c677535722"
            }
          },
          "metadata": {}
        },
        {
          "output_type": "display_data",
          "data": {
            "text/plain": [
              "model.safetensors.index.json:   0%|          | 0.00/26.8k [00:00<?, ?B/s]"
            ],
            "application/vnd.jupyter.widget-view+json": {
              "version_major": 2,
              "version_minor": 0,
              "model_id": "7600c83988df4203bbe545fb8c41108d"
            }
          },
          "metadata": {}
        },
        {
          "output_type": "display_data",
          "data": {
            "text/plain": [
              "Downloading shards:   0%|          | 0/2 [00:00<?, ?it/s]"
            ],
            "application/vnd.jupyter.widget-view+json": {
              "version_major": 2,
              "version_minor": 0,
              "model_id": "a140bc6507554536b92684f27d097ff4"
            }
          },
          "metadata": {}
        },
        {
          "output_type": "display_data",
          "data": {
            "text/plain": [
              "model-00001-of-00002.safetensors:   0%|          | 0.00/9.98G [00:00<?, ?B/s]"
            ],
            "application/vnd.jupyter.widget-view+json": {
              "version_major": 2,
              "version_minor": 0,
              "model_id": "72c2f2c4e945445a9f7b5760bc4966fd"
            }
          },
          "metadata": {}
        },
        {
          "output_type": "display_data",
          "data": {
            "text/plain": [
              "model-00002-of-00002.safetensors:   0%|          | 0.00/3.50G [00:00<?, ?B/s]"
            ],
            "application/vnd.jupyter.widget-view+json": {
              "version_major": 2,
              "version_minor": 0,
              "model_id": "7c48614cadce4149859c4229e904bb66"
            }
          },
          "metadata": {}
        },
        {
          "output_type": "display_data",
          "data": {
            "text/plain": [
              "Loading checkpoint shards:   0%|          | 0/2 [00:00<?, ?it/s]"
            ],
            "application/vnd.jupyter.widget-view+json": {
              "version_major": 2,
              "version_minor": 0,
              "model_id": "b7e4089ab7f84778b4f7057350e6f0f8"
            }
          },
          "metadata": {}
        },
        {
          "output_type": "display_data",
          "data": {
            "text/plain": [
              "generation_config.json:   0%|          | 0.00/188 [00:00<?, ?B/s]"
            ],
            "application/vnd.jupyter.widget-view+json": {
              "version_major": 2,
              "version_minor": 0,
              "model_id": "4c886745123b4cbb86c324c137733296"
            }
          },
          "metadata": {}
        },
        {
          "output_type": "display_data",
          "data": {
            "text/plain": [
              "tokenizer_config.json:   0%|          | 0.00/1.62k [00:00<?, ?B/s]"
            ],
            "application/vnd.jupyter.widget-view+json": {
              "version_major": 2,
              "version_minor": 0,
              "model_id": "56a45fc297ff4342a2bb1609fdf1729c"
            }
          },
          "metadata": {}
        },
        {
          "output_type": "display_data",
          "data": {
            "text/plain": [
              "tokenizer.model:   0%|          | 0.00/500k [00:00<?, ?B/s]"
            ],
            "application/vnd.jupyter.widget-view+json": {
              "version_major": 2,
              "version_minor": 0,
              "model_id": "e233d94a0c4c4c73bfd9d1aae24e68c2"
            }
          },
          "metadata": {}
        },
        {
          "output_type": "display_data",
          "data": {
            "text/plain": [
              "tokenizer.json:   0%|          | 0.00/1.84M [00:00<?, ?B/s]"
            ],
            "application/vnd.jupyter.widget-view+json": {
              "version_major": 2,
              "version_minor": 0,
              "model_id": "63b74dd6d3b04df9933cbb14f5432c7e"
            }
          },
          "metadata": {}
        },
        {
          "output_type": "display_data",
          "data": {
            "text/plain": [
              "special_tokens_map.json:   0%|          | 0.00/414 [00:00<?, ?B/s]"
            ],
            "application/vnd.jupyter.widget-view+json": {
              "version_major": 2,
              "version_minor": 0,
              "model_id": "1782c208a4884537b59f5580bb48df4f"
            }
          },
          "metadata": {}
        },
        {
          "output_type": "stream",
          "name": "stdout",
          "text": [
            "🚀 Model loaded on cuda:0\n"
          ]
        }
      ]
    },
    {
      "cell_type": "markdown",
      "source": [
        "### RAG Chat Function"
      ],
      "metadata": {
        "id": "feUIAckeXoGL"
      }
    },
    {
      "cell_type": "code",
      "source": [
        "def rag_chat(query: str, top_k: int = 3) -> str:\n",
        "    \"\"\"\n",
        "    Generate a legal response using Retrieval-Augmented Generation.\n",
        "\n",
        "    Args:\n",
        "        query: The legal question to answer\n",
        "        top_k: Number of context chunks to retrieve\n",
        "\n",
        "    Returns:\n",
        "        Generated legal answer\n",
        "    \"\"\"\n",
        "    # Clean and normalize the query\n",
        "    query = re.sub(r'\\s+', ' ', query).strip()\n",
        "\n",
        "    # Retrieve relevant context\n",
        "    query_embedding = embedder.encode([query])\n",
        "    distances, indices = index.search(query_embedding, top_k)\n",
        "\n",
        "    # Build context from top matches\n",
        "    context = \"\\n\\n\".join([corpus[i] for i in indices[0]])\n",
        "\n",
        "    # System prompt for legal responses\n",
        "    system_prompt = \"\"\"You are an expert Indian legal assistant. Provide accurate, concise answers\n",
        "    to questions about Indian Constitution, laws, and legal procedures.\n",
        "    - Only respond in English\n",
        "    - Be precise and cite relevant laws when possible\n",
        "    - If unsure, say you don't know rather than speculate\"\"\"\n",
        "\n",
        "    # Format the prompt for LLama2\n",
        "    prompt = f\"\"\"<s>[INST]<<<SYS>>>\n",
        "    {system_prompt}\n",
        "    <</SYS>>>\n",
        "\n",
        "    Context:\n",
        "    {context}\n",
        "\n",
        "    Question: {query} [/INST]\"\"\"\n",
        "\n",
        "    # Generate response\n",
        "    inputs = tokenizer(prompt, return_tensors=\"pt\", truncation=True, max_length=4096).to(model.device)\n",
        "    outputs = model.generate(\n",
        "        **inputs,\n",
        "        max_new_tokens=500,\n",
        "        temperature=0.7,\n",
        "        top_p=0.9,\n",
        "        do_sample=True,\n",
        "        num_return_sequences=1\n",
        "    )\n",
        "\n",
        "    # Extract and clean the response\n",
        "    full_response = tokenizer.decode(outputs[0], skip_special_tokens=True)\n",
        "    response = full_response.split(\"[/INST]\")[-1].strip()\n",
        "    return response"
      ],
      "metadata": {
        "id": "-cjebFk6Xf3a"
      },
      "execution_count": 44,
      "outputs": []
    },
    {
      "cell_type": "markdown",
      "source": [
        "### User Interface"
      ],
      "metadata": {
        "id": "6bM3eNZvY1Fb"
      }
    },
    {
      "cell_type": "code",
      "source": [
        "# Widget setup\n",
        "input_box = widgets.Textarea(\n",
        "    placeholder=\"Type your legal question here...\",\n",
        "    layout=widgets.Layout(width=\"100%\", height=\"100px\")\n",
        ")\n",
        "ask_btn = widgets.Button(description=\"Ask\", button_style=\"primary\")\n",
        "output_area = widgets.Output(layout=widgets.Layout(border=\"1px solid #ccc\"))\n",
        "\n",
        "# Progress indicator\n",
        "progress = widgets.IntProgress(\n",
        "    value=0,\n",
        "    min=0,\n",
        "    max=100,\n",
        "    description='Processing:',\n",
        "    bar_style='info',\n",
        "    style={'bar_color': '#4CAF50'},\n",
        "    layout=widgets.Layout(width='100%', visibility='hidden')\n",
        ")\n",
        "\n",
        "def handle_query(_):\n",
        "    \"\"\"Handle user query and display response\"\"\"\n",
        "    with output_area:\n",
        "        clear_output()\n",
        "        query = input_box.value.strip()\n",
        "\n",
        "        if not query:\n",
        "            print(\"⚠️ Please enter a legal question\")\n",
        "            return\n",
        "\n",
        "        try:\n",
        "            # Show progress\n",
        "            progress.layout.visibility = 'visible'\n",
        "            progress.value = 30\n",
        "            display(progress)\n",
        "\n",
        "            print(\"⚖️ Processing your question...\")\n",
        "\n",
        "            # Get and display response\n",
        "            response = rag_chat(query)\n",
        "            progress.value = 90\n",
        "\n",
        "            print(\"\\nAnswer:\\n\")\n",
        "            print(response)\n",
        "\n",
        "        except Exception as e:\n",
        "            print(f\"❌ Error processing query: {str(e)}\")\n",
        "        finally:\n",
        "            progress.value = 100\n",
        "            time.sleep(0.5)\n",
        "            progress.layout.visibility = 'hidden'\n",
        "\n",
        "# Connect button and display UI\n",
        "ask_btn.on_click(handle_query)\n",
        "display(widgets.VBox([\n",
        "    widgets.Label(\"Indian Legal Assistant\"),\n",
        "    input_box,\n",
        "    ask_btn,\n",
        "    progress,\n",
        "    output_area\n",
        "]))"
      ],
      "metadata": {
        "colab": {
          "base_uri": "https://localhost:8080/",
          "height": 560,
          "referenced_widgets": [
            "855b11455d13450caed7a78b334a4aab",
            "cc45678dd810424cb25132456248dec2",
            "4cb52568538f4c75ac586b2a0bda2e09",
            "5e175b366562447c910488a1375788bd",
            "51473f786c3b47ccb2bca0898dec3b61",
            "bc0358938187413f8c227aac7b17936a",
            "5f7ac123c1a54d069476f3b7bee18a90",
            "34fdd39383ef46b8bfcb0f103f292c08",
            "598e6c710c8e4779aa2da20e9c71deb5",
            "4ac6f1fe1ab546019001e49081b67e86",
            "6af052f457d9459b9783ee1eca6b834c",
            "6fe19cacad854638898034c22ffd6e61",
            "ec95ee272cd0468cb095a3ce43c8f885",
            "4b16c550f1d64d488c259a1bf2fb73c2",
            "f339f9ae2576404685d23eabb66a8a51",
            "5a73fbea25bc4d5494907a5aa5e5eaa6"
          ]
        },
        "id": "s72mD02KY6HQ",
        "outputId": "9bcd4683-af28-40e6-bf3f-0432d874dc10"
      },
      "execution_count": 46,
      "outputs": [
        {
          "output_type": "display_data",
          "data": {
            "text/plain": [
              "VBox(children=(Label(value='Indian Legal Assistant'), Textarea(value='', layout=Layout(height='100px', width='…"
            ],
            "application/vnd.jupyter.widget-view+json": {
              "version_major": 2,
              "version_minor": 0,
              "model_id": "855b11455d13450caed7a78b334a4aab"
            }
          },
          "metadata": {}
        }
      ]
    }
  ]
}
